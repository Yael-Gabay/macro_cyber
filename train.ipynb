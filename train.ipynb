{
 "cells": [
  {
   "cell_type": "markdown",
   "id": "c9cc207f",
   "metadata": {},
   "source": [
    "# Importing the libraries"
   ]
  },
  {
   "cell_type": "code",
   "execution_count": 439,
   "id": "c3272f42",
   "metadata": {},
   "outputs": [],
   "source": [
    "import pandas as pd\n",
    "import time\n",
    "import numpy as np\n",
    "import math\n",
    "import re\n",
    "from sklearn.feature_extraction.text import TfidfVectorizer\n",
    "from sklearn.decomposition import TruncatedSVD\n",
    "from sklearn.ensemble import RandomForestClassifier\n",
    "from sklearn.model_selection import train_test_split\n",
    "from sklearn.metrics import accuracy_score, confusion_matrix, classification_report\n",
    "from scipy.sparse import csr_matrix, hstack, vstack"
   ]
  },
  {
   "cell_type": "markdown",
   "id": "47ae64c1",
   "metadata": {},
   "source": [
    "# Feature methods"
   ]
  },
  {
   "cell_type": "code",
   "execution_count": 440,
   "id": "9c9cf300",
   "metadata": {},
   "outputs": [],
   "source": [
    "# Function to calculate Count of Variables\n",
    "def count_variables(script):\n",
    "    # Extract variable declarations using a regular expression\n",
    "    variable_declarations = re.findall(r'\\b(?:Dim|Private|Public|Static)\\s+(\\w+)', script)\n",
    "    \n",
    "    # Return the count of distinct variable declarations divided by the script length\n",
    "    return len(set(variable_declarations)) / len(script) if len(script) > 0 else 0\n",
    "\n",
    "# Function to add Count of Variables column\n",
    "def add_count_of_variables_column(dataframe):\n",
    "    return dataframe['vba_code'].apply(count_variables)\n"
   ]
  },
  {
   "cell_type": "code",
   "execution_count": 441,
   "id": "da4dcf07",
   "metadata": {},
   "outputs": [],
   "source": [
    "# Function to calculate Average Variable Assignment Length\n",
    "def calculate_avg_variable_assignment_length(text):\n",
    "    # Extract variable assignments using a regular expression\n",
    "    variable_assignments = re.findall(r'\\b(?:Set|Dim)\\s+(\\w+)\\s*=\\s*(\".+?\"|\\w+)', text)\n",
    "\n",
    "    # Calculate the average length of string variables\n",
    "    total_length = sum(len(value) for _, value in variable_assignments if '\"' in value)\n",
    "    count = sum(1 for _, value in variable_assignments if '\"' in value)\n",
    "\n",
    "    # Avoid division by zero\n",
    "    if count == 0:\n",
    "        return 0\n",
    "\n",
    "    avg_length = total_length / count\n",
    "    return avg_length\n",
    "\n",
    "def add_avg_variable_assignment_length_column(dataframe):\n",
    "    return dataframe['vba_code'].apply(calculate_avg_variable_assignment_length)"
   ]
  },
  {
   "cell_type": "code",
   "execution_count": 442,
   "id": "760d7e9f",
   "metadata": {},
   "outputs": [],
   "source": [
    "def mal_wor(text):\n",
    "    unauthorized_patterns = ['Emoji','\"Hacked!\"','UserVersion',\"'donwload\",'Private Sub Sample()','On Error Resume Next']\n",
    "    authorized = ['Private Sub ComboBox11_DropButtonClick()']\n",
    "    for pattern in authorized:\n",
    "        if pattern in text:\n",
    "            return 0  # Detected unauthorized access\n",
    "\n",
    "    for pattern in unauthorized_patterns:\n",
    "        if pattern in text:\n",
    "            return 1  # Detected unauthorized access\n",
    "\n",
    "    return 0  # No unauthorized access detected\n",
    "\n",
    "def add_mal_words_column(dataframe):\n",
    "    return dataframe['vba_code'].apply(mal_wor)"
   ]
  },
  {
   "cell_type": "code",
   "execution_count": 443,
   "id": "79ebe5a3",
   "metadata": {},
   "outputs": [],
   "source": [
    "def check_hexadecimal_encoding(text):\n",
    "    return 1 if re.search(r'\\b[0-9a-fA-F]+\\b', text) else 0\n",
    "\n",
    "def check_base64_encoding(text):\n",
    "    return 1 if re.search(r'\\b(?:[A-Za-z0-9+/]{4})*(?:[A-Za-z0-9+/]{2}==|[A-Za-z0-9+/]{3}=)?\\b', text) else 0\n",
    "\n",
    "def add_check_hexadecimal_encoding_column(dataframe):\n",
    "    return dataframe['vba_code'].apply(check_hexadecimal_encoding)\n",
    "\n",
    "def add_check_base64_encoding_column(dataframe):\n",
    "    return dataframe['vba_code'].apply(check_base64_encoding)\n"
   ]
  },
  {
   "cell_type": "markdown",
   "id": "d7e206d5",
   "metadata": {},
   "source": [
    "# Add columns to the df"
   ]
  },
  {
   "cell_type": "code",
   "execution_count": 444,
   "id": "abf6e7c3",
   "metadata": {},
   "outputs": [],
   "source": [
    " \n",
    "df_unique = pd.read_csv('/Users/AmitBer/Downloads/macro_competition/train_dataset.csv', encoding='utf-16-le')\n",
    "\n",
    "\n",
    "\n",
    "df_transposed = df_unique.T\n",
    "\n",
    "# Remove duplicate rows\n",
    "df_transposed_unique = df_transposed.drop_duplicates()\n",
    "\n",
    "# Transpose the DataFrame back\n",
    "df = df_transposed_unique.T\n",
    "\n",
    "\n",
    "# Write the unique data back to a new CSV file\n",
    "df.to_csv('unique_file.csv', index=False)\n",
    "# Split the dataset into 'malicious' and 'white,' and shuffle the data\n",
    "malicious = df[df['label'] == 'mal']\n",
    "white = df[df['label'] == 'white']\n",
    "merged_data = pd.concat([malicious, white], axis=0)"
   ]
  },
  {
   "cell_type": "markdown",
   "id": "f644586a",
   "metadata": {},
   "source": [
    "# Training model"
   ]
  },
  {
   "cell_type": "code",
   "execution_count": 445,
   "id": "e4d691b8",
   "metadata": {},
   "outputs": [],
   "source": [
    "# Prepare features (X) and labels (y)\n",
    "X = merged_data['vba_code']\n",
    "y = merged_data['label']"
   ]
  },
  {
   "cell_type": "code",
   "execution_count": 446,
   "id": "e7de21d8",
   "metadata": {},
   "outputs": [],
   "source": [
    "\n",
    "# Add number of variables feature\n",
    "number_of_variables = np.array(add_count_of_variables_column(df))\n",
    "\n",
    "avg_variable_assignment_length = np.array(add_avg_variable_assignment_length_column(df))\n",
    "\n",
    "mal_words = np.array(add_mal_words_column(df))\n",
    "\n",
    "check_hexadecimal_encodingn = np.array(add_check_base64_encoding_column(df))\n",
    "\n",
    "check_base64_encodingn = np.array(add_check_hexadecimal_encoding_column(df))\n"
   ]
  },
  {
   "cell_type": "code",
   "execution_count": 447,
   "id": "d99ebb3e",
   "metadata": {},
   "outputs": [],
   "source": [
    "# Create a TF-IDF vectorizer\n",
    "tfidf_vectorizer = TfidfVectorizer(sublinear_tf=True, encoding='utf-8', decode_error='ignore', stop_words='english')\n",
    "\n",
    "# Fit and transform the data\n",
    "X_tfidf = tfidf_vectorizer.fit_transform(X)"
   ]
  },
  {
   "cell_type": "code",
   "execution_count": 448,
   "id": "18ea9ee1",
   "metadata": {},
   "outputs": [],
   "source": [
    "# Combine the matrices horizontally\n",
    "X_combined = hstack([X_tfidf,\n",
    "                     csr_matrix(number_of_variables.reshape(-1,1)),\n",
    "                     csr_matrix(avg_variable_assignment_length.reshape(-1,1)),\n",
    "                     csr_matrix(mal_words.reshape(-1,1)),\n",
    "                     csr_matrix(check_base64_encodingn.reshape(-1,1)), \n",
    "                     csr_matrix(check_hexadecimal_encodingn.reshape(-1,1))])"
   ]
  },
  {
   "cell_type": "code",
   "execution_count": 449,
   "id": "508c8101",
   "metadata": {},
   "outputs": [
    {
     "name": "stdout",
     "output_type": "stream",
     "text": [
      "Classifier training time: 64.08 seconds\n"
     ]
    }
   ],
   "source": [
    "start_time = time.time()\n",
    "classifier = RandomForestClassifier(n_estimators=58, random_state=42, min_samples_leaf=1)\n",
    "classifier.fit(X_combined, y)\n",
    "elapsed_time = time.time() - start_time\n",
    "\n",
    "# Print the training time\n",
    "print(f\"Classifier training time: {elapsed_time:.2f} seconds\")"
   ]
  },
  {
   "cell_type": "code",
   "execution_count": 450,
   "id": "ab40ca94",
   "metadata": {},
   "outputs": [],
   "source": [
    "import pickle\n",
    "\n",
    "# Save the model\n",
    "with open('top_class.pkl', 'wb') as f:\n",
    "    pickle.dump(classifier, f)\n",
    "    \n",
    "with open('vec.pkl', 'wb') as f:\n",
    "    pickle.dump(tfidf_vectorizer, f)      "
   ]
  },
  {
   "cell_type": "code",
   "execution_count": 451,
   "id": "cee91149",
   "metadata": {},
   "outputs": [
    {
     "name": "stdout",
     "output_type": "stream",
     "text": [
      "Training Accuracy: 0.9997177621675866\n",
      "Training Confusion Matrix:\n",
      "[[15808     2]\n",
      " [    7 16071]]\n",
      "Training Classification Report:\n",
      "              precision    recall  f1-score   support\n",
      "\n",
      "         mal       1.00      1.00      1.00     15810\n",
      "       white       1.00      1.00      1.00     16078\n",
      "\n",
      "    accuracy                           1.00     31888\n",
      "   macro avg       1.00      1.00      1.00     31888\n",
      "weighted avg       1.00      1.00      1.00     31888\n",
      "\n"
     ]
    }
   ],
   "source": [
    "# Make predictions on the entire dataset\n",
    "predictions = classifier.predict(X_combined)\n",
    "\n",
    "# Evaluate the classifier on the training set\n",
    "accuracy = accuracy_score(y, predictions)\n",
    "conf_matrix = confusion_matrix(y, predictions)\n",
    "class_report = classification_report(y, predictions)\n",
    "\n",
    "# Print the results for the training set\n",
    "print(f\"Training Accuracy: {accuracy}\")\n",
    "print(f\"Training Confusion Matrix:\\n{conf_matrix}\")\n",
    "print(f\"Training Classification Report:\\n{class_report}\")"
   ]
  },
  {
   "cell_type": "markdown",
   "id": "b149f784",
   "metadata": {},
   "source": [
    "# Validation"
   ]
  },
  {
   "cell_type": "code",
   "execution_count": 452,
   "id": "a32035d9",
   "metadata": {},
   "outputs": [],
   "source": [
    "# Read the validation dataset\n",
    "validation_df = pd.read_csv('/Users/AmitBer/Downloads/macro_competition/validation_dataset.csv', encoding='utf-16-le')"
   ]
  },
  {
   "cell_type": "code",
   "execution_count": 453,
   "id": "fda88a48",
   "metadata": {},
   "outputs": [],
   "source": [
    "# Extract features and labels from the validation set\n",
    "X_validation = validation_df['vba_code']\n",
    "y_validation = validation_df['label']"
   ]
  },
  {
   "cell_type": "code",
   "execution_count": 454,
   "id": "5c663534",
   "metadata": {},
   "outputs": [],
   "source": [
    "# Transform the validation data using the same vectorizer\n",
    "X_validation_tfidf = tfidf_vectorizer.transform(X_validation)\n"
   ]
  },
  {
   "cell_type": "code",
   "execution_count": 455,
   "id": "aa4cf564",
   "metadata": {},
   "outputs": [],
   "source": [
    "# Add number of variables feature to the validation\n",
    "number_of_variables_validation = np.array(add_count_of_variables_column(validation_df))\n",
    "\n",
    "# Add average variable assignment length feature to the validation\n",
    "avg_variable_assignment_length_validation = np.array(add_avg_variable_assignment_length_column(validation_df))\n",
    "\n",
    "check_on_error_resume_validation = np.array(add_mal_words_column(validation_df))\n",
    "\n",
    "check_hexadecimal_encodingn_validation = np.array(add_check_base64_encoding_column(validation_df))\n",
    "\n",
    "check_base64_encodingn_validation = np.array(add_check_hexadecimal_encoding_column(validation_df))\n"
   ]
  },
  {
   "cell_type": "code",
   "execution_count": 456,
   "id": "befd33bf",
   "metadata": {},
   "outputs": [],
   "source": [
    "# Combine the matrices horizontally\n",
    "X_validation_combined = hstack([X_validation_tfidf,\n",
    "                        csr_matrix(number_of_variables_validation.reshape(-1,1)),\n",
    "                        csr_matrix(avg_variable_assignment_length_validation.reshape(-1,1)),\n",
    "                        csr_matrix(check_on_error_resume_validation.reshape(-1,1)),\n",
    "                        csr_matrix(check_hexadecimal_encodingn_validation.reshape(-1,1)),\n",
    "                        csr_matrix(check_base64_encodingn_validation.reshape(-1,1))])"
   ]
  },
  {
   "cell_type": "code",
   "execution_count": 457,
   "id": "f0890ada",
   "metadata": {},
   "outputs": [],
   "source": [
    "# Make predictions on the validation set and evaluate the classifier's performance\n",
    "predictions_validation = classifier.predict(X_validation_combined)\n",
    "validation_df['generated_label'] = predictions_validation"
   ]
  },
  {
   "cell_type": "markdown",
   "id": "b8fc012a",
   "metadata": {},
   "source": [
    "# Results"
   ]
  },
  {
   "cell_type": "code",
   "execution_count": 458,
   "id": "0ff1b2ce",
   "metadata": {},
   "outputs": [
    {
     "name": "stdout",
     "output_type": "stream",
     "text": [
      "Validation Accuracy: 0.9953899708345093\n",
      "Validation Confusion Matrix:\n",
      "[[5273   47]\n",
      " [   2 5307]]\n",
      "Validation Classification Report:\n",
      "              precision    recall  f1-score   support\n",
      "\n",
      "         mal       1.00      0.99      1.00      5320\n",
      "       white       0.99      1.00      1.00      5309\n",
      "\n",
      "    accuracy                           1.00     10629\n",
      "   macro avg       1.00      1.00      1.00     10629\n",
      "weighted avg       1.00      1.00      1.00     10629\n",
      "\n"
     ]
    }
   ],
   "source": [
    "# Print the results for the validation set\n",
    "accuracy_validation = accuracy_score(y_validation, predictions_validation)\n",
    "conf_matrix_validation = confusion_matrix(y_validation, predictions_validation)\n",
    "class_report_validation = classification_report(y_validation, predictions_validation)\n",
    "\n",
    "print(f\"Validation Accuracy: {accuracy_validation}\")\n",
    "print(f\"Validation Confusion Matrix:\\n{conf_matrix_validation}\")\n",
    "print(f\"Validation Classification Report:\\n{class_report_validation}\")"
   ]
  },
  {
   "cell_type": "code",
   "execution_count": 459,
   "id": "0fc089c2",
   "metadata": {},
   "outputs": [
    {
     "name": "stdout",
     "output_type": "stream",
     "text": [
      "\n",
      "True Negative- Mal but was predicted as white Rows in Original CSV:\n",
      "      label                                           vba_code generated_label\n",
      "50      mal                                                  b           white\n",
      "63      mal  Function AAA()\\nEnd Function\\nIf 1 <> 1 Then\\n...           white\n",
      "421     mal  Sub OYwrUVCJckZuLvRBMSOZrFN()\\n\\nDim tudfTFyTf...           white\n",
      "486     mal  Function E5IQj(ByVal O8QGyoRH9 As String, ByVa...           white\n",
      "1479    mal  Sub Document_Open()\\nIf 23 < 153 Then\\n' rRXLq...           white\n",
      "1881    mal  Sub KC()\\nDim Temp(3) As String\\nOn Error GoTo...           white\n",
      "1922    mal  Public Function HexToString(ByVal RltjOJKINyry...           white\n",
      "2040    mal  Function AAA()\\nEnd Function\\nIf 1 <> 1 Then\\n...           white\n",
      "2081    mal  Sub AutoOpen()\\n    Application.Run \"khhzrzr\"\\...           white\n",
      "2092    mal  Private Sub workbook_open()\\nfWH7voI76HLe.f_29...           white\n",
      "2138    mal  Sub backlash()\\nDim hinny As Variant\\nDim mel ...           white\n",
      "2507    mal  Public Const UserVersion = \"2.7\"\\nPublic Curre...           white\n",
      "2570    mal       Sub IIS()\\n'Macro created by Minoli\\nEnd Sub           white\n",
      "2574    mal  Dim asdas As String\\nPublic Sub Workbook_Open(...           white\n",
      "2631    mal  Public Sub Document_Open()\\nDim ceilingvoyage ...           white\n",
      "2798    mal  Sub book()\\n'\\nEnd Sub\\nFunction Timestamp(Ref...           white\n",
      "2997    mal  Private Sub Workbook_Activate()\\n\\n\\n\\nermkdf(...           white\n",
      "3015    mal  Private Sub Workbook_Open()\\n\\nMsgBox \"Hacked!...           white\n",
      "3343    mal  Private Function SvlwRVJiLq()\\nOn Error Resume...           white\n",
      "3397    mal  Private Function tebor()\\nApplication.Volatile...           white\n",
      "3693    mal  Const PublishPath = \"\\\\szc-bpw0064775\\DeptSyst...           white\n",
      "4522    mal  Sub autoopen()\\ninitVba\\nShell \"explorer colle...           white\n",
      "4552    mal  Private Sub Document_Open()\\n   On Error Resum...           white\n",
      "4597    mal  Dim offspring As String\\nDim lyra As Integer\\n...           white\n",
      "5254    mal  Sub AutoOpen()\\nProperControlName \"500\"\\nEnd S...           white\n",
      "5264    mal  Option Explicit\\n\\nPublic Sub Document_Open()\\...           white\n",
      "5387    mal  Const PublishPath = \"\\\\szc-bpw0064775\\DeptSyst...           white\n",
      "5513    mal  Const IncompatiblesDossingAnemopathy = \"547945...           white\n",
      "5614    mal  Public Const UserVersion = \"2.7\"\\nPublic Curre...           white\n",
      "5665    mal  Private Sub Document_Open()\\n   On Error Resum...           white\n",
      "5696    mal  Private Function debase64(lpInBuffer As String...           white\n",
      "5989    mal  Private Function tebor()\\nApplication.Volatile...           white\n",
      "6143    mal  Option Compare Text\\nOption Explicit\\nDim pafs...           white\n",
      "6949    mal  Private Sub Document_open()\\nOn Error Resume N...           white\n",
      "7055    mal  Private Function tpUwMNTwZlvM()\\nOn Error Resu...           white\n",
      "7420    mal  Private Sub Workbook_Open()\\n    If Dir(\"C:\\sM...           white\n",
      "7612    mal  Sub Buy_sell()\\nAttribute Buy_sell.VB_ProcData...           white\n",
      "7897    mal  'White 2019/08/17\\n\\nDim ott7 As String\\nDim m...           white\n",
      "8259    mal  Public Const UserVersion = \"2.7\"\\nPublic Curre...           white\n",
      "8516    mal  Public Const UserVersion = \"2.7\"\\nPublic Curre...           white\n",
      "8658    mal  'White 2019/08/17\\n\\nDim ott7 As String\\nDim m...           white\n",
      "8744    mal       Sub IIS()\\n'Macro created by Minoli\\nEnd Sub           white\n",
      "9020    mal  Private Sub Document_Open()\\nDim calembour As ...           white\n",
      "9829    mal  Sub book()\\n'\\nEnd Sub\\nFunction Timestamp(Ref...           white\n",
      "10064   mal  Option Explicit\\n\\nPrivate Type GUID\\n\\n  Part...           white\n",
      "10219   mal                                                  b           white\n",
      "10435   mal  Sub Macro1()\\n    ActiveDocument.Shapes.AddSha...           white\n"
     ]
    }
   ],
   "source": [
    "true_negative_indices = (predictions_validation == 'white') & (y_validation == 'mal')\n",
    "print(\"\\nTrue Negative- Mal but was predicted as white Rows in Original CSV:\")\n",
    "print(validation_df.loc[true_negative_indices])"
   ]
  },
  {
   "cell_type": "code",
   "execution_count": 438,
   "id": "de10c0d2",
   "metadata": {},
   "outputs": [],
   "source": [
    "dft = pd.read_excel('/Users/AmitBer/Downloads/test.xlsx')\n",
    "dft.to_csv('test_prediction.csv')\n",
    "X_validation_t = dft['vba_code']\n",
    "X_validation_tfidf = tfidf_vectorizer.transform(X_validation_t)\n",
    "\n",
    "\n",
    "# Add number of variables feature to the validation\n",
    "number_of_variables_validation = np.array(add_count_of_variables_column(dft))\n",
    "\n",
    "# Add average variable assignment length feature to the validation\n",
    "avg_variable_assignment_length_validation = np.array(add_avg_variable_assignment_length_column(dft))\n",
    "\n",
    "check_on_error_resume_validation = np.array(add_check_on_error_resume_next_column(dft))\n",
    "\n",
    "check_hexadecimal_encodingn_validation = np.array(add_check_base64_encoding_column(dft))\n",
    "\n",
    "check_base64_encodingn_validation = np.array(add_check_hexadecimal_encoding_column(dft))\n",
    "\n",
    "# Combine the matrices horizontally\n",
    "X_validation_combined_t = hstack([X_validation_tfidf,\n",
    "                                  csr_matrix(number_of_variables_validation.reshape(-1,1)),\n",
    "                                  csr_matrix(avg_variable_assignment_length_validation.reshape(-1,1)),\n",
    "                                  csr_matrix(check_on_error_resume_validation.reshape(-1,1)),\n",
    "                                  csr_matrix(check_hexadecimal_encodingn_validation.reshape(-1,1)),\n",
    "                                  csr_matrix(check_base64_encodingn_validation.reshape(-1,1))])\n",
    "\n",
    "\n",
    "predictions_validation_t = classifier.predict(X_validation_combined_t)\n",
    "\n",
    "dft.rename(columns={'vba_code': 'prediction'}, inplace=True)\n",
    "dft['prediction'] = predictions_validation_t"
   ]
  },
  {
   "cell_type": "code",
   "execution_count": 3064,
   "id": "3ec6e1ba",
   "metadata": {},
   "outputs": [
    {
     "data": {
      "text/html": [
       "<div>\n",
       "<style scoped>\n",
       "    .dataframe tbody tr th:only-of-type {\n",
       "        vertical-align: middle;\n",
       "    }\n",
       "\n",
       "    .dataframe tbody tr th {\n",
       "        vertical-align: top;\n",
       "    }\n",
       "\n",
       "    .dataframe thead th {\n",
       "        text-align: right;\n",
       "    }\n",
       "</style>\n",
       "<table border=\"1\" class=\"dataframe\">\n",
       "  <thead>\n",
       "    <tr style=\"text-align: right;\">\n",
       "      <th></th>\n",
       "      <th>prediction</th>\n",
       "    </tr>\n",
       "  </thead>\n",
       "  <tbody>\n",
       "    <tr>\n",
       "      <th>0</th>\n",
       "      <td>white</td>\n",
       "    </tr>\n",
       "    <tr>\n",
       "      <th>1</th>\n",
       "      <td>white</td>\n",
       "    </tr>\n",
       "    <tr>\n",
       "      <th>2</th>\n",
       "      <td>mal</td>\n",
       "    </tr>\n",
       "    <tr>\n",
       "      <th>3</th>\n",
       "      <td>white</td>\n",
       "    </tr>\n",
       "    <tr>\n",
       "      <th>4</th>\n",
       "      <td>white</td>\n",
       "    </tr>\n",
       "    <tr>\n",
       "      <th>...</th>\n",
       "      <td>...</td>\n",
       "    </tr>\n",
       "    <tr>\n",
       "      <th>10625</th>\n",
       "      <td>white</td>\n",
       "    </tr>\n",
       "    <tr>\n",
       "      <th>10626</th>\n",
       "      <td>mal</td>\n",
       "    </tr>\n",
       "    <tr>\n",
       "      <th>10627</th>\n",
       "      <td>white</td>\n",
       "    </tr>\n",
       "    <tr>\n",
       "      <th>10628</th>\n",
       "      <td>mal</td>\n",
       "    </tr>\n",
       "    <tr>\n",
       "      <th>10629</th>\n",
       "      <td>white</td>\n",
       "    </tr>\n",
       "  </tbody>\n",
       "</table>\n",
       "<p>10630 rows × 1 columns</p>\n",
       "</div>"
      ],
      "text/plain": [
       "      prediction\n",
       "0          white\n",
       "1          white\n",
       "2            mal\n",
       "3          white\n",
       "4          white\n",
       "...          ...\n",
       "10625      white\n",
       "10626        mal\n",
       "10627      white\n",
       "10628        mal\n",
       "10629      white\n",
       "\n",
       "[10630 rows x 1 columns]"
      ]
     },
     "execution_count": 3064,
     "metadata": {},
     "output_type": "execute_result"
    }
   ],
   "source": [
    "dft"
   ]
  }
 ],
 "metadata": {
  "kernelspec": {
   "display_name": "Python 3 (ipykernel)",
   "language": "python",
   "name": "python3"
  },
  "language_info": {
   "codemirror_mode": {
    "name": "ipython",
    "version": 3
   },
   "file_extension": ".py",
   "mimetype": "text/x-python",
   "name": "python",
   "nbconvert_exporter": "python",
   "pygments_lexer": "ipython3",
   "version": "3.11.5"
  }
 },
 "nbformat": 4,
 "nbformat_minor": 5
}
