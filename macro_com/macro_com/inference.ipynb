{
 "cells": [
  {
   "cell_type": "code",
   "execution_count": 3,
   "id": "9474d0fc",
   "metadata": {},
   "outputs": [],
   "source": [
    "import pandas as pd\n",
    "import time\n",
    "import numpy as np\n",
    "import math\n",
    "import re\n",
    "import random\n",
    "import pickle\n",
    "\n",
    "from sklearn.feature_extraction.text import TfidfVectorizer\n",
    "from sklearn.decomposition import TruncatedSVD\n",
    "from sklearn.ensemble import RandomForestClassifier\n",
    "from sklearn.model_selection import train_test_split\n",
    "from sklearn.metrics import accuracy_score, confusion_matrix, classification_report\n",
    "from scipy.sparse import csr_matrix, hstack, vstack"
   ]
  },
  {
   "cell_type": "code",
   "execution_count": 4,
   "id": "ce66da35",
   "metadata": {
    "scrolled": true
   },
   "outputs": [
    {
     "data": {
      "text/html": [
       "<div>\n",
       "<style scoped>\n",
       "    .dataframe tbody tr th:only-of-type {\n",
       "        vertical-align: middle;\n",
       "    }\n",
       "\n",
       "    .dataframe tbody tr th {\n",
       "        vertical-align: top;\n",
       "    }\n",
       "\n",
       "    .dataframe thead th {\n",
       "        text-align: right;\n",
       "    }\n",
       "</style>\n",
       "<table border=\"1\" class=\"dataframe\">\n",
       "  <thead>\n",
       "    <tr style=\"text-align: right;\">\n",
       "      <th></th>\n",
       "      <th>vba_code</th>\n",
       "    </tr>\n",
       "  </thead>\n",
       "  <tbody>\n",
       "    <tr>\n",
       "      <th>0</th>\n",
       "      <td>Private Sub getCIA(C As String, I As String, A...</td>\n",
       "    </tr>\n",
       "    <tr>\n",
       "      <th>1</th>\n",
       "      <td>Private Sub Workbook_Open()\\n    Application.C...</td>\n",
       "    </tr>\n",
       "    <tr>\n",
       "      <th>2</th>\n",
       "      <td>'APMP\\n'KILL\\nPrivate Sub Document_Open()\\n   ...</td>\n",
       "    </tr>\n",
       "    <tr>\n",
       "      <th>3</th>\n",
       "      <td>Private Sub Workbook_Activate()\\n    Call AddM...</td>\n",
       "    </tr>\n",
       "    <tr>\n",
       "      <th>4</th>\n",
       "      <td>Private Sub CheckBox1_Click()\\n\\nEnd Sub\\n\\nPr...</td>\n",
       "    </tr>\n",
       "    <tr>\n",
       "      <th>...</th>\n",
       "      <td>...</td>\n",
       "    </tr>\n",
       "    <tr>\n",
       "      <th>10625</th>\n",
       "      <td>Private Sub CommandButton1_Click()\\nDim s As A...</td>\n",
       "    </tr>\n",
       "    <tr>\n",
       "      <th>10626</th>\n",
       "      <td>Sub AutoOpen()\\n\\nMyMacro\\n\\nEnd Sub\\n\\nSub Do...</td>\n",
       "    </tr>\n",
       "    <tr>\n",
       "      <th>10627</th>\n",
       "      <td>Private Sub CommandButton1_Click()\\n    With A...</td>\n",
       "    </tr>\n",
       "    <tr>\n",
       "      <th>10628</th>\n",
       "      <td>Private Const FOSMgcqLTaUItxmhNrJ As String = ...</td>\n",
       "    </tr>\n",
       "    <tr>\n",
       "      <th>10629</th>\n",
       "      <td>Private Sub Workbook_Open()\\nWorksheets(\"Home\"...</td>\n",
       "    </tr>\n",
       "  </tbody>\n",
       "</table>\n",
       "<p>10630 rows × 1 columns</p>\n",
       "</div>"
      ],
      "text/plain": [
       "                                                vba_code\n",
       "0      Private Sub getCIA(C As String, I As String, A...\n",
       "1      Private Sub Workbook_Open()\\n    Application.C...\n",
       "2      'APMP\\n'KILL\\nPrivate Sub Document_Open()\\n   ...\n",
       "3      Private Sub Workbook_Activate()\\n    Call AddM...\n",
       "4      Private Sub CheckBox1_Click()\\n\\nEnd Sub\\n\\nPr...\n",
       "...                                                  ...\n",
       "10625  Private Sub CommandButton1_Click()\\nDim s As A...\n",
       "10626  Sub AutoOpen()\\n\\nMyMacro\\n\\nEnd Sub\\n\\nSub Do...\n",
       "10627  Private Sub CommandButton1_Click()\\n    With A...\n",
       "10628  Private Const FOSMgcqLTaUItxmhNrJ As String = ...\n",
       "10629  Private Sub Workbook_Open()\\nWorksheets(\"Home\"...\n",
       "\n",
       "[10630 rows x 1 columns]"
      ]
     },
     "execution_count": 4,
     "metadata": {},
     "output_type": "execute_result"
    }
   ],
   "source": [
    "dft = pd.read_csv('/Users/AmitBer/Downloads/macro_competition/test_dataset_without_labels.csv', encoding='utf-16-le')\n",
    "\n",
    "dft"
   ]
  },
  {
   "cell_type": "code",
   "execution_count": 5,
   "id": "2b57d825",
   "metadata": {},
   "outputs": [],
   "source": [
    "# Function to calculate Count of Variables\n",
    "def count_variables(text):\n",
    "    # Extract variable declarations using a regular expression\n",
    "    variable_declarations = re.findall(r'\\b(?:Dim|Private|Public|Static)\\s+(\\w+)', text)\n",
    "    \n",
    "    # Return the count of distinct variable declarations divided by the script length\n",
    "    return len(set(variable_declarations)) / len(text) if len(text) > 0 else 0\n",
    "\n",
    "# Function to add Count of Variables column\n",
    "def add_count_of_variables_columnz(dataframe):\n",
    "    return dataframe['vba_code'].apply(count_variables)\n",
    "\n",
    "\n",
    "\n",
    "# Function to calculate Average Variable Assignment Length\n",
    "def calculate_avg_variable_assignment_length(text):\n",
    "    # Extract variable assignments using a regular expression\n",
    "    variable_assignments = re.findall(r'\\b(?:Set|Dim)\\s+(\\w+)\\s*=\\s*(\".+?\"|\\w+)', text)\n",
    "\n",
    "    # Calculate the average length of string variables\n",
    "    total_length = sum(len(value) for _, value in variable_assignments if '\"' in value)\n",
    "    count = sum(1 for _, value in variable_assignments if '\"' in value)\n",
    "\n",
    "    # Avoid division by zero\n",
    "    if count == 0:\n",
    "        return 0\n",
    "\n",
    "    avg_length = total_length / count\n",
    "    return avg_length\n",
    "\n",
    "def add_avg_variable_assignment_length_columnz(dataframe):\n",
    "    return dataframe['vba_code'].apply(calculate_avg_variable_assignment_length)\n",
    "\n",
    "\n",
    "def mal_word(text):\n",
    "    unauthorized_patterns = ['Emoji','\"Hacked!\"','UserVersion',\"'donwload\",'Private Sub Sample()','On Error Resume Next']\n",
    "    authorized = ['Private Sub ComboBox11_DropButtonClick()']\n",
    "    for pattern in authorized:\n",
    "        if pattern in text:\n",
    "            return 0  # Detected unauthorized access\n",
    "\n",
    "    for pattern in unauthorized_patterns:\n",
    "        if pattern in text:\n",
    "            return 1  # Detected unauthorized access\n",
    "\n",
    "    return 0  # No unauthorized access detected\n",
    "\n",
    "def add_mal_words_columnz(dataframe):\n",
    "    return dataframe['vba_code'].apply(mal_word)\n",
    "\n",
    "\n",
    "def check_hexadecimal_encoding(text):\n",
    "    return 1 if re.search(r'\\b[0-9a-fA-F]+\\b', text) else 0\n",
    "\n",
    "def check_base64_encoding(text):\n",
    "    return 1 if re.search(r'\\b(?:[A-Za-z0-9+/]{4})*(?:[A-Za-z0-9+/]{2}==|[A-Za-z0-9+/]{3}=)?\\b', text) else 0\n",
    "\n",
    "def add_check_hexadecimal_encoding_columnz(dataframe):\n",
    "    return dataframe['vba_code'].apply(check_hexadecimal_encoding)\n",
    "\n",
    "def add_check_base64_encoding_columnz(dataframe):\n",
    "    return dataframe['vba_code'].apply(check_base64_encoding)"
   ]
  },
  {
   "cell_type": "code",
   "execution_count": 9,
   "id": "43d444f8",
   "metadata": {},
   "outputs": [],
   "source": [
    "path = \"/Users/AmitBer/Downloads/\"\n",
    "\n",
    "with open(f'{path}top_class.pkl', 'rb') as f:\n",
    "    classifier = pickle.load(f)\n",
    "    \n",
    "with open(f'{path}vec.pkl', 'rb') as f:\n",
    "    tfidf_vectorizer = pickle.load(f)  "
   ]
  },
  {
   "cell_type": "code",
   "execution_count": 10,
   "id": "5a870704",
   "metadata": {},
   "outputs": [
    {
     "data": {
      "text/html": [
       "<style>#sk-container-id-1 {color: black;}#sk-container-id-1 pre{padding: 0;}#sk-container-id-1 div.sk-toggleable {background-color: white;}#sk-container-id-1 label.sk-toggleable__label {cursor: pointer;display: block;width: 100%;margin-bottom: 0;padding: 0.3em;box-sizing: border-box;text-align: center;}#sk-container-id-1 label.sk-toggleable__label-arrow:before {content: \"▸\";float: left;margin-right: 0.25em;color: #696969;}#sk-container-id-1 label.sk-toggleable__label-arrow:hover:before {color: black;}#sk-container-id-1 div.sk-estimator:hover label.sk-toggleable__label-arrow:before {color: black;}#sk-container-id-1 div.sk-toggleable__content {max-height: 0;max-width: 0;overflow: hidden;text-align: left;background-color: #f0f8ff;}#sk-container-id-1 div.sk-toggleable__content pre {margin: 0.2em;color: black;border-radius: 0.25em;background-color: #f0f8ff;}#sk-container-id-1 input.sk-toggleable__control:checked~div.sk-toggleable__content {max-height: 200px;max-width: 100%;overflow: auto;}#sk-container-id-1 input.sk-toggleable__control:checked~label.sk-toggleable__label-arrow:before {content: \"▾\";}#sk-container-id-1 div.sk-estimator input.sk-toggleable__control:checked~label.sk-toggleable__label {background-color: #d4ebff;}#sk-container-id-1 div.sk-label input.sk-toggleable__control:checked~label.sk-toggleable__label {background-color: #d4ebff;}#sk-container-id-1 input.sk-hidden--visually {border: 0;clip: rect(1px 1px 1px 1px);clip: rect(1px, 1px, 1px, 1px);height: 1px;margin: -1px;overflow: hidden;padding: 0;position: absolute;width: 1px;}#sk-container-id-1 div.sk-estimator {font-family: monospace;background-color: #f0f8ff;border: 1px dotted black;border-radius: 0.25em;box-sizing: border-box;margin-bottom: 0.5em;}#sk-container-id-1 div.sk-estimator:hover {background-color: #d4ebff;}#sk-container-id-1 div.sk-parallel-item::after {content: \"\";width: 100%;border-bottom: 1px solid gray;flex-grow: 1;}#sk-container-id-1 div.sk-label:hover label.sk-toggleable__label {background-color: #d4ebff;}#sk-container-id-1 div.sk-serial::before {content: \"\";position: absolute;border-left: 1px solid gray;box-sizing: border-box;top: 0;bottom: 0;left: 50%;z-index: 0;}#sk-container-id-1 div.sk-serial {display: flex;flex-direction: column;align-items: center;background-color: white;padding-right: 0.2em;padding-left: 0.2em;position: relative;}#sk-container-id-1 div.sk-item {position: relative;z-index: 1;}#sk-container-id-1 div.sk-parallel {display: flex;align-items: stretch;justify-content: center;background-color: white;position: relative;}#sk-container-id-1 div.sk-item::before, #sk-container-id-1 div.sk-parallel-item::before {content: \"\";position: absolute;border-left: 1px solid gray;box-sizing: border-box;top: 0;bottom: 0;left: 50%;z-index: -1;}#sk-container-id-1 div.sk-parallel-item {display: flex;flex-direction: column;z-index: 1;position: relative;background-color: white;}#sk-container-id-1 div.sk-parallel-item:first-child::after {align-self: flex-end;width: 50%;}#sk-container-id-1 div.sk-parallel-item:last-child::after {align-self: flex-start;width: 50%;}#sk-container-id-1 div.sk-parallel-item:only-child::after {width: 0;}#sk-container-id-1 div.sk-dashed-wrapped {border: 1px dashed gray;margin: 0 0.4em 0.5em 0.4em;box-sizing: border-box;padding-bottom: 0.4em;background-color: white;}#sk-container-id-1 div.sk-label label {font-family: monospace;font-weight: bold;display: inline-block;line-height: 1.2em;}#sk-container-id-1 div.sk-label-container {text-align: center;}#sk-container-id-1 div.sk-container {/* jupyter's `normalize.less` sets `[hidden] { display: none; }` but bootstrap.min.css set `[hidden] { display: none !important; }` so we also need the `!important` here to be able to override the default hidden behavior on the sphinx rendered scikit-learn.org. See: https://github.com/scikit-learn/scikit-learn/issues/21755 */display: inline-block !important;position: relative;}#sk-container-id-1 div.sk-text-repr-fallback {display: none;}</style><div id=\"sk-container-id-1\" class=\"sk-top-container\"><div class=\"sk-text-repr-fallback\"><pre>TfidfVectorizer(decode_error=&#x27;ignore&#x27;, stop_words=&#x27;english&#x27;, sublinear_tf=True)</pre><b>In a Jupyter environment, please rerun this cell to show the HTML representation or trust the notebook. <br />On GitHub, the HTML representation is unable to render, please try loading this page with nbviewer.org.</b></div><div class=\"sk-container\" hidden><div class=\"sk-item\"><div class=\"sk-estimator sk-toggleable\"><input class=\"sk-toggleable__control sk-hidden--visually\" id=\"sk-estimator-id-1\" type=\"checkbox\" checked><label for=\"sk-estimator-id-1\" class=\"sk-toggleable__label sk-toggleable__label-arrow\">TfidfVectorizer</label><div class=\"sk-toggleable__content\"><pre>TfidfVectorizer(decode_error=&#x27;ignore&#x27;, stop_words=&#x27;english&#x27;, sublinear_tf=True)</pre></div></div></div></div></div>"
      ],
      "text/plain": [
       "TfidfVectorizer(decode_error='ignore', stop_words='english', sublinear_tf=True)"
      ]
     },
     "execution_count": 10,
     "metadata": {},
     "output_type": "execute_result"
    }
   ],
   "source": [
    "tfidf_vectorizer"
   ]
  },
  {
   "cell_type": "code",
   "execution_count": 11,
   "id": "f40ea594",
   "metadata": {},
   "outputs": [],
   "source": [
    "# Fit and transform the data\n",
    "test_tfidf = tfidf_vectorizer.transform(dft['vba_code'])\n"
   ]
  },
  {
   "cell_type": "code",
   "execution_count": 12,
   "id": "3198f13b",
   "metadata": {},
   "outputs": [],
   "source": [
    "\n",
    "number_of_variables_test = np.array(add_count_of_variables_columnz(dft))\n",
    "\n",
    "avg_variable_assignment_length_test = np.array(add_avg_variable_assignment_length_columnz(dft))\n",
    "\n",
    "mal_words_test = np.array(add_mal_words_columnz(dft))\n",
    "\n",
    "check_hexadecimal_encodingn_test = np.array(add_check_base64_encoding_columnz(dft))\n",
    "\n",
    "check_base64_encodingn_test = np.array(add_check_hexadecimal_encoding_columnz(dft))\n"
   ]
  },
  {
   "cell_type": "code",
   "execution_count": 21,
   "id": "769941ce",
   "metadata": {},
   "outputs": [],
   "source": [
    "# Combine the matrices horizontally\n",
    "test_combined = hstack([test_tfidf,\n",
    "                     csr_matrix(number_of_variables_test.reshape(-1,1)),\n",
    "                     csr_matrix(avg_variable_assignment_length_test.reshape(-1,1)),\n",
    "                     csr_matrix(mal_words_test.reshape(-1,1)),\n",
    "                     csr_matrix(check_hexadecimal_encodingn_test.reshape(-1,1)), \n",
    "                     csr_matrix(check_base64_encodingn_test.reshape(-1,1))])\n",
    "\n",
    "\n",
    "test_predictions = classifier.predict(test_combined)\n",
    "\n",
    "\n"
   ]
  },
  {
   "cell_type": "code",
   "execution_count": 60,
   "id": "fc6dcb8e",
   "metadata": {},
   "outputs": [],
   "source": [
    "df = pd.DataFrame(test_predictions)"
   ]
  },
  {
   "cell_type": "code",
   "execution_count": 61,
   "id": "4c5dc308",
   "metadata": {},
   "outputs": [],
   "source": [
    "df.to_csv(\"test_predictions.csv\")"
   ]
  },
  {
   "cell_type": "code",
   "execution_count": 62,
   "id": "d16480be",
   "metadata": {},
   "outputs": [],
   "source": [
    "df.columns = ['prediction']"
   ]
  },
  {
   "cell_type": "code",
   "execution_count": 63,
   "id": "723ba094",
   "metadata": {},
   "outputs": [],
   "source": [
    "# df.drop(df.columns[0], axis=1)"
   ]
  },
  {
   "cell_type": "code",
   "execution_count": 64,
   "id": "126a7933",
   "metadata": {},
   "outputs": [
    {
     "data": {
      "text/html": [
       "<div>\n",
       "<style scoped>\n",
       "    .dataframe tbody tr th:only-of-type {\n",
       "        vertical-align: middle;\n",
       "    }\n",
       "\n",
       "    .dataframe tbody tr th {\n",
       "        vertical-align: top;\n",
       "    }\n",
       "\n",
       "    .dataframe thead th {\n",
       "        text-align: right;\n",
       "    }\n",
       "</style>\n",
       "<table border=\"1\" class=\"dataframe\">\n",
       "  <thead>\n",
       "    <tr style=\"text-align: right;\">\n",
       "      <th></th>\n",
       "      <th>prediction</th>\n",
       "    </tr>\n",
       "  </thead>\n",
       "  <tbody>\n",
       "    <tr>\n",
       "      <th>0</th>\n",
       "      <td>white</td>\n",
       "    </tr>\n",
       "    <tr>\n",
       "      <th>1</th>\n",
       "      <td>white</td>\n",
       "    </tr>\n",
       "    <tr>\n",
       "      <th>2</th>\n",
       "      <td>mal</td>\n",
       "    </tr>\n",
       "    <tr>\n",
       "      <th>3</th>\n",
       "      <td>white</td>\n",
       "    </tr>\n",
       "    <tr>\n",
       "      <th>4</th>\n",
       "      <td>white</td>\n",
       "    </tr>\n",
       "    <tr>\n",
       "      <th>...</th>\n",
       "      <td>...</td>\n",
       "    </tr>\n",
       "    <tr>\n",
       "      <th>10625</th>\n",
       "      <td>white</td>\n",
       "    </tr>\n",
       "    <tr>\n",
       "      <th>10626</th>\n",
       "      <td>mal</td>\n",
       "    </tr>\n",
       "    <tr>\n",
       "      <th>10627</th>\n",
       "      <td>white</td>\n",
       "    </tr>\n",
       "    <tr>\n",
       "      <th>10628</th>\n",
       "      <td>mal</td>\n",
       "    </tr>\n",
       "    <tr>\n",
       "      <th>10629</th>\n",
       "      <td>white</td>\n",
       "    </tr>\n",
       "  </tbody>\n",
       "</table>\n",
       "<p>10630 rows × 1 columns</p>\n",
       "</div>"
      ],
      "text/plain": [
       "      prediction\n",
       "0          white\n",
       "1          white\n",
       "2            mal\n",
       "3          white\n",
       "4          white\n",
       "...          ...\n",
       "10625      white\n",
       "10626        mal\n",
       "10627      white\n",
       "10628        mal\n",
       "10629      white\n",
       "\n",
       "[10630 rows x 1 columns]"
      ]
     },
     "execution_count": 64,
     "metadata": {},
     "output_type": "execute_result"
    }
   ],
   "source": [
    "df"
   ]
  },
  {
   "cell_type": "code",
   "execution_count": null,
   "id": "599e75f4",
   "metadata": {},
   "outputs": [],
   "source": []
  }
 ],
 "metadata": {
  "kernelspec": {
   "display_name": "Python 3 (ipykernel)",
   "language": "python",
   "name": "python3"
  },
  "language_info": {
   "codemirror_mode": {
    "name": "ipython",
    "version": 3
   },
   "file_extension": ".py",
   "mimetype": "text/x-python",
   "name": "python",
   "nbconvert_exporter": "python",
   "pygments_lexer": "ipython3",
   "version": "3.11.5"
  }
 },
 "nbformat": 4,
 "nbformat_minor": 5
}
